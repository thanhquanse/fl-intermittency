{
 "cells": [
  {
   "cell_type": "code",
   "execution_count": 3,
   "metadata": {},
   "outputs": [
    {
     "name": "stdout",
     "output_type": "stream",
     "text": [
      "First 22 columns extracted and saved to weather/_stardard_weather.xlsx\n"
     ]
    }
   ],
   "source": [
    "from openpyxl import load_workbook, Workbook\n",
    "\n",
    "def extract_first_110_columns(input_file, output_file):\n",
    "    # Load the workbook and the first sheet\n",
    "    wb = load_workbook(input_file)\n",
    "    source_sheet = wb.active  # Assuming the first sheet is the source\n",
    "\n",
    "    # Create a new workbook for the output\n",
    "    new_wb = Workbook()\n",
    "    new_sheet = new_wb.active\n",
    "    new_sheet.title = \"Extracted Columns\"\n",
    "\n",
    "    # Copy the first 110 columns\n",
    "    max_columns = min(110, source_sheet.max_column)  # Ensure no more than available columns are copied\n",
    "    for col_idx in range(1, max_columns + 1):  # Columns are 1-indexed\n",
    "        for row_idx, cell in enumerate(source_sheet.iter_rows(min_col=col_idx, max_col=col_idx), start=1):\n",
    "            new_sheet.cell(row=row_idx, column=col_idx, value=cell[0].value)\n",
    "\n",
    "    # Save the new workbook\n",
    "    new_wb.save(output_file)\n",
    "    print(f\"First {max_columns} columns extracted and saved to {output_file}\")\n",
    "\n",
    "# Usage\n",
    "input_file = \"weather/weather.xlsx\"  # Replace with your input file path\n",
    "output_file = \"weather/_stardard_weather.xlsx\"   # Replace with your desired output file path\n",
    "extract_first_110_columns(input_file, output_file)"
   ]
  },
  {
   "cell_type": "code",
   "execution_count": null,
   "metadata": {},
   "outputs": [],
   "source": [
    "from openpyxl import Workbook, load_workbook\n",
    "\n",
    "def distribute_rows_to_24_hour_sheets(input_file, output_file):\n",
    "    # Load the workbook and the first sheet\n",
    "    wb = load_workbook(input_file)\n",
    "    source_sheet = wb.active  # Assuming the first sheet is the source\n",
    "\n",
    "    # Get the first column data (reference column)\n",
    "    reference_column = [cell.value for cell in source_sheet['A']]\n",
    "\n",
    "    # Prepare column names for 24 hours (Hour 0 to Hour 23)\n",
    "    hour_columns = [f\"Hour {i}\" for i in range(24)]\n",
    "\n",
    "    # Iterate through each column starting from the second\n",
    "    for col_index, col_cells in enumerate(source_sheet.iter_cols(min_col=2, max_col=source_sheet.max_column), start=2):\n",
    "        # Flatten column data and skip None values\n",
    "        column_data = [cell.value for cell in col_cells if cell.value is not None]\n",
    "\n",
    "        # Split the column data into chunks of 24 rows\n",
    "        for chunk_index in range(0, len(column_data), 24):\n",
    "            # Create a new sheet for each chunk\n",
    "            sheet_name = f\"Sheet_{col_index}_Chunk_{chunk_index // 24 + 1}\"\n",
    "            new_sheet = wb.create_sheet(title=sheet_name)\n",
    "\n",
    "            # Write the reference column to column A of the new sheet\n",
    "            for row_idx, value in enumerate(reference_column, start=1):\n",
    "                new_sheet.cell(row=row_idx, column=1, value=value)\n",
    "\n",
    "            # Write hour column names (Hour 0 to Hour 23) to the first row\n",
    "            for hour_idx, hour_name in enumerate(hour_columns, start=2):\n",
    "                new_sheet.cell(row=1, column=hour_idx, value=hour_name)\n",
    "\n",
    "            # Write data from the current chunk into respective hour columns\n",
    "            for row_offset, value in enumerate(column_data[chunk_index:chunk_index + 24]):\n",
    "                if row_offset < 24:  # Ensure no more than 24 columns are populated\n",
    "                    new_sheet.cell(row=2, column=row_offset + 2, value=value)\n",
    "\n",
    "    # Save the workbook with the new sheets\n",
    "    wb.save(output_file)\n",
    "    print(f\"Data distributed into sheets and saved to {output_file}\")\n",
    "\n",
    "# Usage\n",
    "input_file = \"weather/_stardard_weather.xlsx\"  # Replace with your input file path\n",
    "output_file = \"weather/__stardard_weather.xlsx\"  # Replace with your desired output file path\n",
    "distribute_rows_to_24_hour_sheets(input_file, output_file)"
   ]
  },
  {
   "cell_type": "code",
   "execution_count": null,
   "metadata": {},
   "outputs": [
    {
     "ename": "IndexError",
     "evalue": "At least one sheet must be visible",
     "output_type": "error",
     "traceback": [
      "\u001b[0;31m---------------------------------------------------------------------------\u001b[0m",
      "\u001b[0;31mIndexError\u001b[0m                                Traceback (most recent call last)",
      "Cell \u001b[0;32mIn[2], line 32\u001b[0m\n\u001b[1;32m     30\u001b[0m input_file \u001b[38;5;241m=\u001b[39m \u001b[38;5;124m\"\u001b[39m\u001b[38;5;124mweather/weather.xlsx\u001b[39m\u001b[38;5;124m\"\u001b[39m  \u001b[38;5;66;03m# Replace with your input file path\u001b[39;00m\n\u001b[1;32m     31\u001b[0m output_file \u001b[38;5;241m=\u001b[39m \u001b[38;5;124m\"\u001b[39m\u001b[38;5;124mweather/_weather.xlsx\u001b[39m\u001b[38;5;124m\"\u001b[39m   \u001b[38;5;66;03m# Replace with your desired output file path\u001b[39;00m\n\u001b[0;32m---> 32\u001b[0m \u001b[43mextract_first_10000_rows\u001b[49m\u001b[43m(\u001b[49m\u001b[43minput_file\u001b[49m\u001b[43m,\u001b[49m\u001b[43m \u001b[49m\u001b[43moutput_file\u001b[49m\u001b[43m)\u001b[49m\n",
      "Cell \u001b[0;32mIn[2], line 24\u001b[0m, in \u001b[0;36mextract_first_10000_rows\u001b[0;34m(input_file, output_file)\u001b[0m\n\u001b[1;32m     21\u001b[0m             new_sheet\u001b[38;5;241m.\u001b[39mcell(row\u001b[38;5;241m=\u001b[39mrow_idx, column\u001b[38;5;241m=\u001b[39mcol_idx, value\u001b[38;5;241m=\u001b[39mcell\u001b[38;5;241m.\u001b[39mvalue)\n\u001b[1;32m     23\u001b[0m \u001b[38;5;66;03m# Save the new workbook\u001b[39;00m\n\u001b[0;32m---> 24\u001b[0m \u001b[43mnew_wb\u001b[49m\u001b[38;5;241;43m.\u001b[39;49m\u001b[43msave\u001b[49m\u001b[43m(\u001b[49m\u001b[43moutput_file\u001b[49m\u001b[43m)\u001b[49m\n\u001b[1;32m     25\u001b[0m \u001b[38;5;28mprint\u001b[39m(\u001b[38;5;124mf\u001b[39m\u001b[38;5;124m\"\u001b[39m\u001b[38;5;124mFirst 10000 rows from each sheet (starting from the second) extracted and saved to \u001b[39m\u001b[38;5;132;01m{\u001b[39;00moutput_file\u001b[38;5;132;01m}\u001b[39;00m\u001b[38;5;124m\"\u001b[39m)\n",
      "File \u001b[0;32m/mnt/d/Research/FL/OfficialProject/Codebase/.venv39/lib/python3.9/site-packages/openpyxl/workbook/workbook.py:386\u001b[0m, in \u001b[0;36mWorkbook.save\u001b[0;34m(self, filename)\u001b[0m\n\u001b[1;32m    384\u001b[0m \u001b[38;5;28;01mif\u001b[39;00m \u001b[38;5;28mself\u001b[39m\u001b[38;5;241m.\u001b[39mwrite_only \u001b[38;5;129;01mand\u001b[39;00m \u001b[38;5;129;01mnot\u001b[39;00m \u001b[38;5;28mself\u001b[39m\u001b[38;5;241m.\u001b[39mworksheets:\n\u001b[1;32m    385\u001b[0m     \u001b[38;5;28mself\u001b[39m\u001b[38;5;241m.\u001b[39mcreate_sheet()\n\u001b[0;32m--> 386\u001b[0m \u001b[43msave_workbook\u001b[49m\u001b[43m(\u001b[49m\u001b[38;5;28;43mself\u001b[39;49m\u001b[43m,\u001b[49m\u001b[43m \u001b[49m\u001b[43mfilename\u001b[49m\u001b[43m)\u001b[49m\n",
      "File \u001b[0;32m/mnt/d/Research/FL/OfficialProject/Codebase/.venv39/lib/python3.9/site-packages/openpyxl/writer/excel.py:294\u001b[0m, in \u001b[0;36msave_workbook\u001b[0;34m(workbook, filename)\u001b[0m\n\u001b[1;32m    292\u001b[0m workbook\u001b[38;5;241m.\u001b[39mproperties\u001b[38;5;241m.\u001b[39mmodified \u001b[38;5;241m=\u001b[39m datetime\u001b[38;5;241m.\u001b[39mdatetime\u001b[38;5;241m.\u001b[39mnow(tz\u001b[38;5;241m=\u001b[39mdatetime\u001b[38;5;241m.\u001b[39mtimezone\u001b[38;5;241m.\u001b[39mutc)\u001b[38;5;241m.\u001b[39mreplace(tzinfo\u001b[38;5;241m=\u001b[39m\u001b[38;5;28;01mNone\u001b[39;00m)\n\u001b[1;32m    293\u001b[0m writer \u001b[38;5;241m=\u001b[39m ExcelWriter(workbook, archive)\n\u001b[0;32m--> 294\u001b[0m \u001b[43mwriter\u001b[49m\u001b[38;5;241;43m.\u001b[39;49m\u001b[43msave\u001b[49m\u001b[43m(\u001b[49m\u001b[43m)\u001b[49m\n\u001b[1;32m    295\u001b[0m \u001b[38;5;28;01mreturn\u001b[39;00m \u001b[38;5;28;01mTrue\u001b[39;00m\n",
      "File \u001b[0;32m/mnt/d/Research/FL/OfficialProject/Codebase/.venv39/lib/python3.9/site-packages/openpyxl/writer/excel.py:275\u001b[0m, in \u001b[0;36mExcelWriter.save\u001b[0;34m(self)\u001b[0m\n\u001b[1;32m    273\u001b[0m \u001b[38;5;28;01mdef\u001b[39;00m \u001b[38;5;21msave\u001b[39m(\u001b[38;5;28mself\u001b[39m):\n\u001b[1;32m    274\u001b[0m \u001b[38;5;250m    \u001b[39m\u001b[38;5;124;03m\"\"\"Write data into the archive.\"\"\"\u001b[39;00m\n\u001b[0;32m--> 275\u001b[0m     \u001b[38;5;28;43mself\u001b[39;49m\u001b[38;5;241;43m.\u001b[39;49m\u001b[43mwrite_data\u001b[49m\u001b[43m(\u001b[49m\u001b[43m)\u001b[49m\n\u001b[1;32m    276\u001b[0m     \u001b[38;5;28mself\u001b[39m\u001b[38;5;241m.\u001b[39m_archive\u001b[38;5;241m.\u001b[39mclose()\n",
      "File \u001b[0;32m/mnt/d/Research/FL/OfficialProject/Codebase/.venv39/lib/python3.9/site-packages/openpyxl/writer/excel.py:89\u001b[0m, in \u001b[0;36mExcelWriter.write_data\u001b[0;34m(self)\u001b[0m\n\u001b[1;32m     87\u001b[0m writer \u001b[38;5;241m=\u001b[39m WorkbookWriter(\u001b[38;5;28mself\u001b[39m\u001b[38;5;241m.\u001b[39mworkbook)\n\u001b[1;32m     88\u001b[0m archive\u001b[38;5;241m.\u001b[39mwritestr(ARC_ROOT_RELS, writer\u001b[38;5;241m.\u001b[39mwrite_root_rels())\n\u001b[0;32m---> 89\u001b[0m archive\u001b[38;5;241m.\u001b[39mwritestr(ARC_WORKBOOK, \u001b[43mwriter\u001b[49m\u001b[38;5;241;43m.\u001b[39;49m\u001b[43mwrite\u001b[49m\u001b[43m(\u001b[49m\u001b[43m)\u001b[49m)\n\u001b[1;32m     90\u001b[0m archive\u001b[38;5;241m.\u001b[39mwritestr(ARC_WORKBOOK_RELS, writer\u001b[38;5;241m.\u001b[39mwrite_rels())\n\u001b[1;32m     92\u001b[0m \u001b[38;5;28mself\u001b[39m\u001b[38;5;241m.\u001b[39m_merge_vba()\n",
      "File \u001b[0;32m/mnt/d/Research/FL/OfficialProject/Codebase/.venv39/lib/python3.9/site-packages/openpyxl/workbook/_writer.py:150\u001b[0m, in \u001b[0;36mWorkbookWriter.write\u001b[0;34m(self)\u001b[0m\n\u001b[1;32m    148\u001b[0m \u001b[38;5;28mself\u001b[39m\u001b[38;5;241m.\u001b[39mwrite_names()\n\u001b[1;32m    149\u001b[0m \u001b[38;5;28mself\u001b[39m\u001b[38;5;241m.\u001b[39mwrite_pivots()\n\u001b[0;32m--> 150\u001b[0m \u001b[38;5;28;43mself\u001b[39;49m\u001b[38;5;241;43m.\u001b[39;49m\u001b[43mwrite_views\u001b[49m\u001b[43m(\u001b[49m\u001b[43m)\u001b[49m\n\u001b[1;32m    151\u001b[0m \u001b[38;5;28mself\u001b[39m\u001b[38;5;241m.\u001b[39mwrite_refs()\n\u001b[1;32m    153\u001b[0m \u001b[38;5;28;01mreturn\u001b[39;00m tostring(\u001b[38;5;28mself\u001b[39m\u001b[38;5;241m.\u001b[39mpackage\u001b[38;5;241m.\u001b[39mto_tree())\n",
      "File \u001b[0;32m/mnt/d/Research/FL/OfficialProject/Codebase/.venv39/lib/python3.9/site-packages/openpyxl/workbook/_writer.py:137\u001b[0m, in \u001b[0;36mWorkbookWriter.write_views\u001b[0;34m(self)\u001b[0m\n\u001b[1;32m    136\u001b[0m \u001b[38;5;28;01mdef\u001b[39;00m \u001b[38;5;21mwrite_views\u001b[39m(\u001b[38;5;28mself\u001b[39m):\n\u001b[0;32m--> 137\u001b[0m     active \u001b[38;5;241m=\u001b[39m \u001b[43mget_active_sheet\u001b[49m\u001b[43m(\u001b[49m\u001b[38;5;28;43mself\u001b[39;49m\u001b[38;5;241;43m.\u001b[39;49m\u001b[43mwb\u001b[49m\u001b[43m)\u001b[49m\n\u001b[1;32m    138\u001b[0m     \u001b[38;5;28;01mif\u001b[39;00m \u001b[38;5;28mself\u001b[39m\u001b[38;5;241m.\u001b[39mwb\u001b[38;5;241m.\u001b[39mviews:\n\u001b[1;32m    139\u001b[0m         \u001b[38;5;28mself\u001b[39m\u001b[38;5;241m.\u001b[39mwb\u001b[38;5;241m.\u001b[39mviews[\u001b[38;5;241m0\u001b[39m]\u001b[38;5;241m.\u001b[39mactiveTab \u001b[38;5;241m=\u001b[39m active\n",
      "File \u001b[0;32m/mnt/d/Research/FL/OfficialProject/Codebase/.venv39/lib/python3.9/site-packages/openpyxl/workbook/_writer.py:35\u001b[0m, in \u001b[0;36mget_active_sheet\u001b[0;34m(wb)\u001b[0m\n\u001b[1;32m     33\u001b[0m visible_sheets \u001b[38;5;241m=\u001b[39m [idx \u001b[38;5;28;01mfor\u001b[39;00m idx, sheet \u001b[38;5;129;01min\u001b[39;00m \u001b[38;5;28menumerate\u001b[39m(wb\u001b[38;5;241m.\u001b[39m_sheets) \u001b[38;5;28;01mif\u001b[39;00m sheet\u001b[38;5;241m.\u001b[39msheet_state \u001b[38;5;241m==\u001b[39m \u001b[38;5;124m\"\u001b[39m\u001b[38;5;124mvisible\u001b[39m\u001b[38;5;124m\"\u001b[39m]\n\u001b[1;32m     34\u001b[0m \u001b[38;5;28;01mif\u001b[39;00m \u001b[38;5;129;01mnot\u001b[39;00m visible_sheets:\n\u001b[0;32m---> 35\u001b[0m     \u001b[38;5;28;01mraise\u001b[39;00m \u001b[38;5;167;01mIndexError\u001b[39;00m(\u001b[38;5;124m\"\u001b[39m\u001b[38;5;124mAt least one sheet must be visible\u001b[39m\u001b[38;5;124m\"\u001b[39m)\n\u001b[1;32m     37\u001b[0m idx \u001b[38;5;241m=\u001b[39m wb\u001b[38;5;241m.\u001b[39m_active_sheet_index\n\u001b[1;32m     38\u001b[0m sheet \u001b[38;5;241m=\u001b[39m wb\u001b[38;5;241m.\u001b[39mactive\n",
      "\u001b[0;31mIndexError\u001b[0m: At least one sheet must be visible"
     ]
    }
   ],
   "source": [
    "from openpyxl import load_workbook, Workbook\n",
    "\n",
    "def extract_first_10000_rows(input_file, output_file):\n",
    "    # Load the workbook\n",
    "    wb = load_workbook(input_file)\n",
    "\n",
    "    # Create a new workbook for the output\n",
    "    new_wb = Workbook()\n",
    "    if \"Sheet\" in new_wb.sheetnames:\n",
    "        new_wb.remove(new_wb[\"Sheet\"])  # Remove the default sheet\n",
    "\n",
    "    # Process each sheet starting from the second\n",
    "    for sheet_index, sheet in enumerate(wb.worksheets[1:], start=2):  # Skip the first sheet\n",
    "        # Create a new sheet in the output workbook\n",
    "        new_sheet = new_wb.create_sheet(title=sheet.title)\n",
    "\n",
    "        # Extract the first 1,097 rows from the current sheet\n",
    "        max_rows = min(10000, sheet.max_row)  # Ensure no more than available rows are copied\n",
    "        for row_idx in range(1, max_rows + 1):\n",
    "            for col_idx, cell in enumerate(sheet[row_idx], start=1):\n",
    "                new_sheet.cell(row=row_idx, column=col_idx, value=cell.value)\n",
    "\n",
    "    # Save the new workbook\n",
    "    new_wb.save(output_file)\n",
    "    print(f\"First 10000 rows from each sheet (starting from the second) extracted and saved to {output_file}\")\n",
    "\n",
    "# Usage\n",
    "# input_file = \"traffic/__stardard_traffic.xlsx\"  # Replace with your input file path\n",
    "# output_file = \"traffic/___stardard_traffic.xlsx\"   # Replace with your desired output file path\n",
    "input_file = \"weather/__stardard_weather.xlsx\"  # Replace with your input file path\n",
    "output_file = \"weather/___weather.xlsx\"   # Replace with your desired output file path\n",
    "extract_first_10000_rows(input_file, output_file)"
   ]
  },
  {
   "cell_type": "code",
   "execution_count": null,
   "metadata": {},
   "outputs": [
    {
     "ename": "",
     "evalue": "",
     "output_type": "error",
     "traceback": [
      "\u001b[1;31mThe Kernel crashed while executing code in the current cell or a previous cell. \n",
      "\u001b[1;31mPlease review the code in the cell(s) to identify a possible cause of the failure. \n",
      "\u001b[1;31mClick <a href='https://aka.ms/vscodeJupyterKernelCrash'>here</a> for more info. \n",
      "\u001b[1;31mView Jupyter <a href='command:jupyter.viewOutput'>log</a> for further details."
     ]
    }
   ],
   "source": [
    "from openpyxl import Workbook, load_workbook\n",
    "\n",
    "def move_columns_to_new_sheets(input_file, output_file):\n",
    "    # Load the workbook and the first sheet\n",
    "    wb = load_workbook(input_file)\n",
    "    source_sheet = wb.active  # Assuming the first sheet is the source\n",
    "\n",
    "    # Get the first column data (reference column)\n",
    "    reference_column = [cell.value for cell in source_sheet['A']]\n",
    "\n",
    "    # Prepare column names for 24 hours (Hour 0 to Hour 23)\n",
    "    hour_columns = [f\"Hour {i}\" for i in range(24)]\n",
    "\n",
    "    # Process the first 100 columns starting from the second column\n",
    "    for col_index, col_cells in enumerate(source_sheet.iter_cols(min_col=2, max_col=101), start=2):\n",
    "        # Flatten column data and skip None values\n",
    "        column_data = [cell.value for cell in col_cells if cell.value is not None]\n",
    "\n",
    "        # Split the column data into chunks of 24 rows\n",
    "        for chunk_index in range(0, len(column_data), 24):\n",
    "            # Create a new sheet for each chunk\n",
    "            sheet_name = f\"Sheet_{col_index}_Chunk_{chunk_index // 24 + 1}\"\n",
    "            new_sheet = wb.create_sheet(title=sheet_name)\n",
    "\n",
    "            # Write the reference column to column A of the new sheet\n",
    "            for row_idx, value in enumerate(reference_column, start=1):\n",
    "                new_sheet.cell(row=row_idx, column=1, value=value)\n",
    "\n",
    "            # Write hour column names (Hour 0 to Hour 23) to the first row\n",
    "            for hour_idx, hour_name in enumerate(hour_columns, start=2):\n",
    "                new_sheet.cell(row=1, column=hour_idx, value=hour_name)\n",
    "\n",
    "            # Write data from the current chunk into respective hour columns\n",
    "            for row_offset, value in enumerate(column_data[chunk_index:chunk_index + 24]):\n",
    "                new_sheet.cell(row=2, column=row_offset + 2, value=value)\n",
    "\n",
    "    # Save the workbook with the new sheets\n",
    "    wb.save(output_file)\n",
    "    print(f\"Data distributed into sheets and saved to {output_file}\")\n",
    "\n",
    "# Usage\n",
    "# input_file = \"traffic/___stardard_traffic.xlsx\"   # Replace with your input file path\n",
    "# output_file = \"traffic/stardard_traffic.xlsx\"  # Replace with your desired output file path\n",
    "input_file = \"weather/___weather.xlsx\"\n",
    "output_file = \"weather/stardard_weather.xlsx\"\n",
    "move_columns_to_new_sheets(input_file, output_file)"
   ]
  },
  {
   "cell_type": "code",
   "execution_count": 2,
   "metadata": {},
   "outputs": [
    {
     "name": "stdout",
     "output_type": "stream",
     "text": [
      "Updated cell B2 in all sheets of weather/standard_weather.xlsx.\n"
     ]
    }
   ],
   "source": [
    "from openpyxl import load_workbook, Workbook\n",
    "\n",
    "def update_cell_value(file_path):\n",
    "    # Load the Excel workbook\n",
    "    workbook = load_workbook(file_path)\n",
    "\n",
    "    # Iterate through all sheets and replace the value of cell B2 with 0\n",
    "    for sheet_name in workbook.sheetnames:\n",
    "        sheet = workbook[sheet_name]\n",
    "        sheet['B2'] = 0  # Set cell B2 to 0\n",
    "\n",
    "    # Save the workbook\n",
    "    workbook.save(file_path)\n",
    "    print(f\"Updated cell B2 in all sheets of {file_path}.\")\n",
    "\n",
    "update_cell_value(\"weather/standard_weather.xlsx\")"
   ]
  }
 ],
 "metadata": {
  "kernelspec": {
   "display_name": ".venv39",
   "language": "python",
   "name": "python3"
  },
  "language_info": {
   "codemirror_mode": {
    "name": "ipython",
    "version": 3
   },
   "file_extension": ".py",
   "mimetype": "text/x-python",
   "name": "python",
   "nbconvert_exporter": "python",
   "pygments_lexer": "ipython3",
   "version": "3.9.20"
  }
 },
 "nbformat": 4,
 "nbformat_minor": 2
}
